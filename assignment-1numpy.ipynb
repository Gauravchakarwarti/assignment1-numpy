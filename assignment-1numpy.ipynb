{
 "cells": [
  {
   "cell_type": "code",
   "execution_count": 5,
   "id": "e81cf5a6-7cc3-466a-84e0-eecf31bf4d85",
   "metadata": {},
   "outputs": [
    {
     "data": {
      "text/plain": [
       "array([0., 0., 0., 0., 1., 0., 0., 0., 0., 0.])"
      ]
     },
     "execution_count": 5,
     "metadata": {},
     "output_type": "execute_result"
    }
   ],
   "source": [
    "# Question 1.Create a null vector of size 10 but the fifth value which is 1.\n",
    "\n",
    "import numpy as np\n",
    "null_vector = np.zeros(10)\n",
    "null_vector[4] = 1\n",
    "null_vector\n"
   ]
  },
  {
   "cell_type": "code",
   "execution_count": 6,
   "id": "db436e66-339b-4d09-9f3f-3eb97b65c5dd",
   "metadata": {},
   "outputs": [
    {
     "data": {
      "text/plain": [
       "array([10, 11, 12, 13, 14, 15, 16, 17, 18, 19, 20, 21, 22, 23, 24, 25, 26,\n",
       "       27, 28, 29, 30, 31, 32, 33, 34, 35, 36, 37, 38, 39, 40, 41, 42, 43,\n",
       "       44, 45, 46, 47, 48, 49])"
      ]
     },
     "execution_count": 6,
     "metadata": {},
     "output_type": "execute_result"
    }
   ],
   "source": [
    "# question 2. Create a vector with values ranging from 10 to 49.\n",
    "\n",
    "import numpy as np\n",
    "vector = np.arange(10,50)\n",
    "vector"
   ]
  },
  {
   "cell_type": "code",
   "execution_count": 7,
   "id": "0245b593-86d8-4dee-8ceb-9ca993f8eecd",
   "metadata": {},
   "outputs": [
    {
     "data": {
      "text/plain": [
       "array([[0, 1, 2],\n",
       "       [3, 4, 5],\n",
       "       [6, 7, 8]])"
      ]
     },
     "execution_count": 7,
     "metadata": {},
     "output_type": "execute_result"
    }
   ],
   "source": [
    "#Question 3. Create a 3x3 matrix with values ranging from 0 to 8.\n",
    "matrix = np.arange(9).reshape(3,3)\n",
    "matrix"
   ]
  },
  {
   "cell_type": "code",
   "execution_count": 9,
   "id": "77fed2fe-2032-418d-8a93-d3c8762469c6",
   "metadata": {},
   "outputs": [
    {
     "data": {
      "text/plain": [
       "(array([0, 1, 4], dtype=int64),)"
      ]
     },
     "execution_count": 9,
     "metadata": {},
     "output_type": "execute_result"
    }
   ],
   "source": [
    "#Question 4. Find indices of non-zero elements from [1,2,0,0,4,0].\n",
    "arr = np.array([1,2,0,0,4,0])\n",
    "non_zero = np.nonzero(arr)\n",
    "non_zero\n"
   ]
  },
  {
   "cell_type": "code",
   "execution_count": 18,
   "id": "55a652c4-e1f1-4994-901b-6e867cb0d69c",
   "metadata": {},
   "outputs": [
    {
     "name": "stdout",
     "output_type": "stream",
     "text": [
      "Random Array:\n",
      "[[6.72622530e-04 4.53250618e-01 2.59851051e-01 7.19564096e-01\n",
      "  1.62943751e-02 8.45410140e-01 3.97771749e-02 4.93232834e-01\n",
      "  4.92414503e-01 5.66743374e-01]\n",
      " [5.14311184e-01 8.81406503e-01 3.79696888e-01 7.53264853e-01\n",
      "  3.05425618e-01 3.28619112e-01 2.03245275e-01 9.20027322e-01\n",
      "  5.05538827e-01 1.53299688e-01]\n",
      " [8.62666681e-01 8.46191279e-01 5.56068813e-01 8.86419777e-01\n",
      "  7.52434621e-03 3.94107021e-01 9.86876407e-01 3.67330804e-01\n",
      "  7.57986672e-01 4.59336730e-01]\n",
      " [5.63328298e-01 8.47088252e-03 4.47247994e-01 4.59705567e-01\n",
      "  8.07486839e-01 6.87698549e-01 8.38803157e-01 4.67683513e-01\n",
      "  7.95004754e-01 3.96355311e-01]\n",
      " [8.71211481e-01 2.20578419e-02 7.71379465e-01 2.81108381e-01\n",
      "  7.14121862e-01 1.77182656e-01 6.70920963e-01 9.64188799e-01\n",
      "  2.96232263e-01 2.73976543e-01]\n",
      " [3.12468350e-02 2.62313900e-01 3.87328578e-01 4.62093782e-02\n",
      "  2.56792862e-01 8.38578135e-02 5.84741618e-01 2.45499710e-01\n",
      "  8.97730541e-01 1.85926862e-01]\n",
      " [3.37069552e-01 2.22766125e-01 3.23697733e-01 9.19601401e-01\n",
      "  5.06737541e-01 6.57961964e-01 2.00686352e-01 3.88183644e-01\n",
      "  7.87941720e-01 7.78609533e-01]\n",
      " [5.06306651e-01 9.99139137e-01 8.61878661e-01 8.73574624e-01\n",
      "  1.81144232e-01 1.54791508e-01 9.26279098e-01 1.56659518e-01\n",
      "  2.28554633e-01 9.25579875e-01]\n",
      " [1.28659549e-01 7.01905691e-01 5.29136018e-01 7.99740927e-01\n",
      "  9.98236397e-03 9.07722581e-01 9.48944516e-01 8.92803497e-01\n",
      "  1.71194090e-01 2.11070192e-01]\n",
      " [1.92731753e-01 1.62178283e-02 5.87299723e-01 1.22908199e-01\n",
      "  2.93415479e-02 2.46694901e-01 9.76893718e-02 3.66362880e-01\n",
      "  9.28501212e-02 2.52009878e-01]]\n",
      "Minimum Value: 0.0006726225297196686\n",
      "Maximum Value: 0.9991391371823346\n"
     ]
    }
   ],
   "source": [
    "#Question 5. Create a 10x10 array with random values and find the minimum and maximum values.\n",
    "random_array = np.random.rand(10,10)\n",
    "min_value = random_array.min()\n",
    "max_value = random_array.max()\n",
    "print(\"Random Array:\")\n",
    "print(random_array)\n",
    "print(\"Minimum Value:\",min_value)\n",
    "print(\"Maximum Value:\",max_value)\n"
   ]
  },
  {
   "cell_type": "code",
   "execution_count": 21,
   "id": "dcee8d6d-aa91-4613-a275-2b0790e2b6ca",
   "metadata": {},
   "outputs": [
    {
     "name": "stdout",
     "output_type": "stream",
     "text": [
      "Random Vector:\n",
      "[0.35127927 0.96330462 0.74897238 0.8165068  0.95775651 0.02079497\n",
      " 0.9932426  0.30319494 0.64189423 0.66687893 0.43619089 0.15540151\n",
      " 0.52479246 0.33814995 0.10144286 0.76915844 0.12015259 0.79903393\n",
      " 0.23065803 0.32486119 0.53559585 0.52567671 0.71674358 0.64032486\n",
      " 0.22282265 0.0927448  0.5151099  0.67611111 0.08722107 0.42012633]\n",
      "Mean Value: 0.4898714647271436\n"
     ]
    }
   ],
   "source": [
    "#Question 6. Create a random vector of size 30 and find the mean value.\n",
    "random_vector = np.random.rand(30)\n",
    "mean_value = random_vector.mean()\n",
    "print(\"Random Vector:\")\n",
    "print(random_vector)\n",
    "print(\"Mean Value:\", mean_value)"
   ]
  },
  {
   "cell_type": "code",
   "execution_count": null,
   "id": "083491f8-57ce-4bc0-82f1-53c493d0be1b",
   "metadata": {},
   "outputs": [],
   "source": []
  }
 ],
 "metadata": {
  "kernelspec": {
   "display_name": "Python 3 (ipykernel)",
   "language": "python",
   "name": "python3"
  },
  "language_info": {
   "codemirror_mode": {
    "name": "ipython",
    "version": 3
   },
   "file_extension": ".py",
   "mimetype": "text/x-python",
   "name": "python",
   "nbconvert_exporter": "python",
   "pygments_lexer": "ipython3",
   "version": "3.11.5"
  }
 },
 "nbformat": 4,
 "nbformat_minor": 5
}
